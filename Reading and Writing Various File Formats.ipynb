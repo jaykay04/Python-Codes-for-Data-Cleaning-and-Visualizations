{
 "cells": [
  {
   "cell_type": "code",
   "execution_count": 1,
   "metadata": {},
   "outputs": [],
   "source": [
    "import pandas as pd\n",
    "import numpy as np\n",
    "from pandas import Series,DataFrame\n",
    "\n",
    "#READING FROM CSV FILES\n",
    "#csv_df=pd.read_csv('file name')\n",
    "#csv_df=pd.read_csv('file name',header=none) #assigns columns headers to csv files without headers\n"
   ]
  },
  {
   "cell_type": "code",
   "execution_count": 4,
   "metadata": {},
   "outputs": [],
   "source": [
    "#USING THE READ TABLE FUNCTION\n",
    "#csv_df=pd.read_table('file name',sep=',') #This is not restricted to comma seperated,\n",
    "                                           #use headers=none if no column headings"
   ]
  },
  {
   "cell_type": "code",
   "execution_count": 5,
   "metadata": {},
   "outputs": [],
   "source": [
    "#IMPORTING PARTIAL ROWS\n",
    "#csv_df=pd.read_csv('file name',nrows=2) #This will import only 2 rows"
   ]
  },
  {
   "cell_type": "code",
   "execution_count": 3,
   "metadata": {},
   "outputs": [
    {
     "name": "stdout",
     "output_type": "stream",
     "text": [
      "    cab  Revenue  Loss\n",
      "0  uber      100  1000\n",
      "1  grab       10   200\n",
      "2  lyft       30   500\n",
      "3   ola       90   900\n"
     ]
    }
   ],
   "source": [
    "#CREATING DATAFRAME WITH DICTIONARY\n",
    "data_df=DataFrame({'cab':['uber','grab','lyft','ola'],'Revenue':[100,10,30,90,],'Loss':[1000,200,500,900]})\n",
    "print(data_df)"
   ]
  },
  {
   "cell_type": "code",
   "execution_count": null,
   "metadata": {},
   "outputs": [],
   "source": [
    "#EXPORTING BACK TO CSV FILE\n",
    "#data_df.to_csv('New CSV.csv',sep=',') #Note that you can also use ! in the sep"
   ]
  },
  {
   "cell_type": "code",
   "execution_count": 6,
   "metadata": {},
   "outputs": [],
   "source": [
    "#EXPORTING SPECIFIC COLUMNS\n",
    "#data_df.to_csv('New CSV2',columns=['Loss','cab'])\n",
    "#Resource:Python csv"
   ]
  },
  {
   "cell_type": "code",
   "execution_count": null,
   "metadata": {},
   "outputs": [],
   "source": [
    "#Writing csv Files\n",
    "# data1={'name':['Alice','Bella','sara','Emily'],\n",
    "#       'number':[18,20,22,24],\n",
    "#       'score':[85,87,83,89]}\n",
    "\n",
    "# df=DataFrame(data)\n",
    "\n",
    "# df.to_csv('test2.csv',index=False) #It has been saved as csv file\n",
    "\n",
    "# pd.read_csv('test2.csv') #We can now read it back\n"
   ]
  },
  {
   "cell_type": "code",
   "execution_count": 12,
   "metadata": {},
   "outputs": [
    {
     "name": "stdout",
     "output_type": "stream",
     "text": [
      "[               COUNTRY COUNTRY CODE ISO CODES  POPULATION  AREA KM2  \\\n",
      "0          Afghanistan           93  AF / AFG    29121286    647500   \n",
      "1              Albania          355  AL / ALB     2986952     28748   \n",
      "2              Algeria          213  DZ / DZA    34586184   2381740   \n",
      "3       American Samoa        1-684  AS / ASM       57881       199   \n",
      "4              Andorra          376  AD / AND       84000       468   \n",
      "..                 ...          ...       ...         ...       ...   \n",
      "235  Wallis and Futuna          681  WF / WLF       16025       274   \n",
      "236     Western Sahara          212  EH / ESH      273008    266000   \n",
      "237              Yemen          967  YE / YEM    23495361    527970   \n",
      "238             Zambia          260  ZM / ZMB    13460305    752614   \n",
      "239           Zimbabwe          263  ZW / ZWE    11651858    390580   \n",
      "\n",
      "          GDP $USD  \n",
      "0    20.65 Billion  \n",
      "1     12.8 Billion  \n",
      "2    215.7 Billion  \n",
      "3    462.2 Million  \n",
      "4      4.8 Billion  \n",
      "..             ...  \n",
      "235            NaN  \n",
      "236            NaN  \n",
      "237  43.89 Billion  \n",
      "238  22.24 Billion  \n",
      "239  10.48 Billion  \n",
      "\n",
      "[240 rows x 6 columns],                COUNTRY COUNTRY CODE ISO CODES\n",
      "0          Afghanistan           93  AF / AFG\n",
      "1              Albania          355  AL / ALB\n",
      "2              Algeria          213  DZ / DZA\n",
      "3       American Samoa        1-684  AS / ASM\n",
      "4              Andorra          376  AD / AND\n",
      "..                 ...          ...       ...\n",
      "235  Wallis and Futuna          681  WF / WLF\n",
      "236     Western Sahara          212  EH / ESH\n",
      "237              Yemen          967  YE / YEM\n",
      "238             Zambia          260  ZM / ZMB\n",
      "239           Zimbabwe          263  ZW / ZWE\n",
      "\n",
      "[240 rows x 3 columns]]\n"
     ]
    }
   ],
   "source": [
    "#READING HTML FILES\n",
    "from pandas import read_html\n",
    "url=\"https://countrycode.org/\"\n",
    "dataset1=pd.io.html.read_html(url)\n",
    "print(dataset1)\n",
    "\n",
    "#print(data_df.columns.values)"
   ]
  },
  {
   "cell_type": "code",
   "execution_count": 13,
   "metadata": {},
   "outputs": [
    {
     "name": "stdout",
     "output_type": "stream",
     "text": [
      "               COUNTRY COUNTRY CODE ISO CODES  POPULATION  AREA KM2  \\\n",
      "0          Afghanistan           93  AF / AFG    29121286    647500   \n",
      "1              Albania          355  AL / ALB     2986952     28748   \n",
      "2              Algeria          213  DZ / DZA    34586184   2381740   \n",
      "3       American Samoa        1-684  AS / ASM       57881       199   \n",
      "4              Andorra          376  AD / AND       84000       468   \n",
      "..                 ...          ...       ...         ...       ...   \n",
      "235  Wallis and Futuna          681  WF / WLF       16025       274   \n",
      "236     Western Sahara          212  EH / ESH      273008    266000   \n",
      "237              Yemen          967  YE / YEM    23495361    527970   \n",
      "238             Zambia          260  ZM / ZMB    13460305    752614   \n",
      "239           Zimbabwe          263  ZW / ZWE    11651858    390580   \n",
      "\n",
      "          GDP $USD  \n",
      "0    20.65 Billion  \n",
      "1     12.8 Billion  \n",
      "2    215.7 Billion  \n",
      "3    462.2 Million  \n",
      "4      4.8 Billion  \n",
      "..             ...  \n",
      "235            NaN  \n",
      "236            NaN  \n",
      "237  43.89 Billion  \n",
      "238  22.24 Billion  \n",
      "239  10.48 Billion  \n",
      "\n",
      "[240 rows x 6 columns]\n"
     ]
    }
   ],
   "source": [
    "data_df=dataset1[0]\n",
    "print(data_df)"
   ]
  },
  {
   "cell_type": "code",
   "execution_count": 14,
   "metadata": {},
   "outputs": [
    {
     "data": {
      "text/html": [
       "<div>\n",
       "<style scoped>\n",
       "    .dataframe tbody tr th:only-of-type {\n",
       "        vertical-align: middle;\n",
       "    }\n",
       "\n",
       "    .dataframe tbody tr th {\n",
       "        vertical-align: top;\n",
       "    }\n",
       "\n",
       "    .dataframe thead th {\n",
       "        text-align: right;\n",
       "    }\n",
       "</style>\n",
       "<table border=\"1\" class=\"dataframe\">\n",
       "  <thead>\n",
       "    <tr style=\"text-align: right;\">\n",
       "      <th></th>\n",
       "      <th>COUNTRY</th>\n",
       "      <th>COUNTRY CODE</th>\n",
       "      <th>ISO CODES</th>\n",
       "    </tr>\n",
       "  </thead>\n",
       "  <tbody>\n",
       "    <tr>\n",
       "      <th>0</th>\n",
       "      <td>Afghanistan</td>\n",
       "      <td>93</td>\n",
       "      <td>AF / AFG</td>\n",
       "    </tr>\n",
       "    <tr>\n",
       "      <th>1</th>\n",
       "      <td>Albania</td>\n",
       "      <td>355</td>\n",
       "      <td>AL / ALB</td>\n",
       "    </tr>\n",
       "    <tr>\n",
       "      <th>2</th>\n",
       "      <td>Algeria</td>\n",
       "      <td>213</td>\n",
       "      <td>DZ / DZA</td>\n",
       "    </tr>\n",
       "    <tr>\n",
       "      <th>3</th>\n",
       "      <td>American Samoa</td>\n",
       "      <td>1-684</td>\n",
       "      <td>AS / ASM</td>\n",
       "    </tr>\n",
       "    <tr>\n",
       "      <th>4</th>\n",
       "      <td>Andorra</td>\n",
       "      <td>376</td>\n",
       "      <td>AD / AND</td>\n",
       "    </tr>\n",
       "    <tr>\n",
       "      <th>...</th>\n",
       "      <td>...</td>\n",
       "      <td>...</td>\n",
       "      <td>...</td>\n",
       "    </tr>\n",
       "    <tr>\n",
       "      <th>235</th>\n",
       "      <td>Wallis and Futuna</td>\n",
       "      <td>681</td>\n",
       "      <td>WF / WLF</td>\n",
       "    </tr>\n",
       "    <tr>\n",
       "      <th>236</th>\n",
       "      <td>Western Sahara</td>\n",
       "      <td>212</td>\n",
       "      <td>EH / ESH</td>\n",
       "    </tr>\n",
       "    <tr>\n",
       "      <th>237</th>\n",
       "      <td>Yemen</td>\n",
       "      <td>967</td>\n",
       "      <td>YE / YEM</td>\n",
       "    </tr>\n",
       "    <tr>\n",
       "      <th>238</th>\n",
       "      <td>Zambia</td>\n",
       "      <td>260</td>\n",
       "      <td>ZM / ZMB</td>\n",
       "    </tr>\n",
       "    <tr>\n",
       "      <th>239</th>\n",
       "      <td>Zimbabwe</td>\n",
       "      <td>263</td>\n",
       "      <td>ZW / ZWE</td>\n",
       "    </tr>\n",
       "  </tbody>\n",
       "</table>\n",
       "<p>240 rows × 3 columns</p>\n",
       "</div>"
      ],
      "text/plain": [
       "               COUNTRY COUNTRY CODE ISO CODES\n",
       "0          Afghanistan           93  AF / AFG\n",
       "1              Albania          355  AL / ALB\n",
       "2              Algeria          213  DZ / DZA\n",
       "3       American Samoa        1-684  AS / ASM\n",
       "4              Andorra          376  AD / AND\n",
       "..                 ...          ...       ...\n",
       "235  Wallis and Futuna          681  WF / WLF\n",
       "236     Western Sahara          212  EH / ESH\n",
       "237              Yemen          967  YE / YEM\n",
       "238             Zambia          260  ZM / ZMB\n",
       "239           Zimbabwe          263  ZW / ZWE\n",
       "\n",
       "[240 rows x 3 columns]"
      ]
     },
     "execution_count": 14,
     "metadata": {},
     "output_type": "execute_result"
    }
   ],
   "source": [
    "data_df2=dataset1[1]\n",
    "data_df2"
   ]
  },
  {
   "cell_type": "code",
   "execution_count": 16,
   "metadata": {},
   "outputs": [
    {
     "name": "stdout",
     "output_type": "stream",
     "text": [
      "['COUNTRY' 'COUNTRY CODE' 'ISO CODES' 'POPULATION' 'AREA KM2' 'GDP $USD']\n"
     ]
    }
   ],
   "source": [
    "print(data_df.columns.values)"
   ]
  },
  {
   "cell_type": "code",
   "execution_count": 17,
   "metadata": {},
   "outputs": [
    {
     "name": "stdout",
     "output_type": "stream",
     "text": [
      "['COUNTRY' 'COUNTRY CODE' 'ISO CODES']\n"
     ]
    }
   ],
   "source": [
    "print(data_df2.columns.values)"
   ]
  },
  {
   "cell_type": "code",
   "execution_count": 18,
   "metadata": {},
   "outputs": [],
   "source": [
    "#READING AND WRITING EXCEL FILES\n",
    "#Reading Excel Files\n",
    "# data_excel=pd.read_excel('test.xlsx',sheetname='sheet1') #We can also use the sheet index"
   ]
  },
  {
   "cell_type": "code",
   "execution_count": 19,
   "metadata": {},
   "outputs": [],
   "source": [
    "#Writing Excel files\n",
    "# data2={'name':['Alice','Bella','sara','Emily'],\n",
    "#       'number':[18,20,22,24],\n",
    "#       'score':[85,87,83,89]}\n",
    "\n",
    "# df_data=DataFrame(data)\n",
    "\n",
    "# df_data.to_excel('test2.xlsx',sheet_name='NewSheet') #Write to Excel\n",
    "# pd.read_excel('test2.xlsx',sheet_name='NewSheet')   #Read from Excel\n",
    "\n"
   ]
  },
  {
   "cell_type": "code",
   "execution_count": null,
   "metadata": {},
   "outputs": [],
   "source": []
  }
 ],
 "metadata": {
  "kernelspec": {
   "display_name": "Python 3",
   "language": "python",
   "name": "python3"
  },
  "language_info": {
   "codemirror_mode": {
    "name": "ipython",
    "version": 3
   },
   "file_extension": ".py",
   "mimetype": "text/x-python",
   "name": "python",
   "nbconvert_exporter": "python",
   "pygments_lexer": "ipython3",
   "version": "3.7.6"
  }
 },
 "nbformat": 4,
 "nbformat_minor": 4
}
