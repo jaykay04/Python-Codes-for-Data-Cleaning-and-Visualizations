{
 "cells": [
  {
   "cell_type": "code",
   "execution_count": 24,
   "metadata": {},
   "outputs": [
    {
     "name": "stdout",
     "output_type": "stream",
     "text": [
      "Color is Red\n",
      "Problem Solved\n"
     ]
    }
   ],
   "source": [
    "#Conditional Statements\n",
    "#If Statements\n",
    "col='red'\n",
    "if col=='red':\n",
    "    print('Color is Red')\n",
    "print('Problem Solved')"
   ]
  },
  {
   "cell_type": "code",
   "execution_count": 3,
   "metadata": {},
   "outputs": [
    {
     "name": "stdout",
     "output_type": "stream",
     "text": [
      "Number is Negative\n"
     ]
    }
   ],
   "source": [
    "num=-5\n",
    "if num<=0:\n",
    "    print('Number is Negative')"
   ]
  },
  {
   "cell_type": "code",
   "execution_count": 5,
   "metadata": {},
   "outputs": [
    {
     "name": "stdout",
     "output_type": "stream",
     "text": [
      "Number is Negative\n"
     ]
    }
   ],
   "source": [
    "#If and else statements\n",
    "if num>=0:\n",
    "    print('Number is Positive')\n",
    "else:\n",
    "    print('Number is Negative')"
   ]
  },
  {
   "cell_type": "code",
   "execution_count": 6,
   "metadata": {},
   "outputs": [
    {
     "name": "stdout",
     "output_type": "stream",
     "text": [
      "Juvenile\n"
     ]
    }
   ],
   "source": [
    "age=15\n",
    "if age>=18:\n",
    "    print('Adult')\n",
    "else:\n",
    "    print('Juvenile')"
   ]
  },
  {
   "cell_type": "code",
   "execution_count": 8,
   "metadata": {},
   "outputs": [
    {
     "name": "stdout",
     "output_type": "stream",
     "text": [
      "Color is red\n",
      "Color issues resolved\n"
     ]
    }
   ],
   "source": [
    "if col=='green':\n",
    "    print('Color is green')\n",
    "else:\n",
    "    print('Color is red')\n",
    "print('Color issues resolved')"
   ]
  },
  {
   "cell_type": "code",
   "execution_count": 9,
   "metadata": {},
   "outputs": [
    {
     "name": "stdout",
     "output_type": "stream",
     "text": [
      "Color is Red\n"
     ]
    }
   ],
   "source": [
    "#If, elif and else statements\n",
    "if col=='red':\n",
    "    print('Color is Red')\n",
    "elif col=='green':\n",
    "    print('Color is Green')\n",
    "else:\n",
    "    print('Color is Blue')"
   ]
  },
  {
   "cell_type": "code",
   "execution_count": 11,
   "metadata": {},
   "outputs": [
    {
     "name": "stdout",
     "output_type": "stream",
     "text": [
      "That is Yours\n"
     ]
    }
   ],
   "source": [
    "number=10\n",
    "if number>20:\n",
    "    print('This is mine')\n",
    "elif number>=10:\n",
    "    print('That is Yours')\n",
    "else:\n",
    "    print('Integer')"
   ]
  },
  {
   "cell_type": "code",
   "execution_count": 15,
   "metadata": {},
   "outputs": [
    {
     "name": "stdout",
     "output_type": "stream",
     "text": [
      "Above 10\n",
      "Above 20\n"
     ]
    }
   ],
   "source": [
    "x=40\n",
    "if x>10:\n",
    "    print('Above 10')\n",
    "    if x>20:\n",
    "        print('Above 20')\n",
    "    else:\n",
    "        print('Not Above')"
   ]
  },
  {
   "cell_type": "code",
   "execution_count": 14,
   "metadata": {},
   "outputs": [
    {
     "name": "stdout",
     "output_type": "stream",
     "text": [
      "Value is less than 200\n",
      "Value is 100\n",
      "Good Bye\n"
     ]
    }
   ],
   "source": [
    "#Nested If\n",
    "var=100\n",
    "if var<200:\n",
    "    print('Value is less than 200')\n",
    "    if var==150:\n",
    "        print('Value is 150')\n",
    "    elif var==100:\n",
    "        print('Value is 100')\n",
    "else:\n",
    "    print('Value not found')\n",
    "print('Good Bye')"
   ]
  },
  {
   "cell_type": "code",
   "execution_count": 16,
   "metadata": {},
   "outputs": [],
   "source": [
    "#Evaluating Complex assertions using the And, Or and Not\n",
    "#Note:\n",
    "#True and False returns False\n",
    "#True or False returns True"
   ]
  },
  {
   "cell_type": "code",
   "execution_count": 17,
   "metadata": {},
   "outputs": [
    {
     "data": {
      "text/plain": [
       "10"
      ]
     },
     "execution_count": 17,
     "metadata": {},
     "output_type": "execute_result"
    }
   ],
   "source": [
    "a,b,c=10,12,-10\n",
    "a"
   ]
  },
  {
   "cell_type": "code",
   "execution_count": 18,
   "metadata": {},
   "outputs": [
    {
     "name": "stdout",
     "output_type": "stream",
     "text": [
      "Greater than Zero\n"
     ]
    }
   ],
   "source": [
    "if a>0 and b>0:\n",
    "    print('Greater than Zero')"
   ]
  },
  {
   "cell_type": "code",
   "execution_count": 19,
   "metadata": {},
   "outputs": [
    {
     "name": "stdout",
     "output_type": "stream",
     "text": [
      "No numbers\n"
     ]
    }
   ],
   "source": [
    "if a<0 and b>0:\n",
    "    print('numbers')\n",
    "else:\n",
    "    print('No numbers')"
   ]
  },
  {
   "cell_type": "code",
   "execution_count": 20,
   "metadata": {},
   "outputs": [
    {
     "name": "stdout",
     "output_type": "stream",
     "text": [
      "Numbers\n"
     ]
    }
   ],
   "source": [
    "if a<0 or b>0:\n",
    "    print('Numbers')\n",
    "else:\n",
    "    print('No numbers')"
   ]
  },
  {
   "cell_type": "code",
   "execution_count": 21,
   "metadata": {},
   "outputs": [
    {
     "name": "stdout",
     "output_type": "stream",
     "text": [
      "Atleast one number is not greater than 0\n"
     ]
    }
   ],
   "source": [
    "if a > 0 and b > 0 and c > 0: \n",
    "    print(\"The numbers are greater than 0\") \n",
    "else: \n",
    "    print(\"Atleast one number is not greater than 0\") "
   ]
  },
  {
   "cell_type": "code",
   "execution_count": 22,
   "metadata": {},
   "outputs": [
    {
     "name": "stdout",
     "output_type": "stream",
     "text": [
      "Either of the number is greater than 0\n"
     ]
    }
   ],
   "source": [
    "e,f,g=10,-10,0\n",
    "if e > 0 or f > 0: \n",
    "    print(\"Either of the number is greater than 0\") \n",
    "else: \n",
    "    print(\"No number is greater than 0\")"
   ]
  },
  {
   "cell_type": "code",
   "execution_count": 23,
   "metadata": {},
   "outputs": [
    {
     "name": "stdout",
     "output_type": "stream",
     "text": [
      "No number is greater than 0\n"
     ]
    }
   ],
   "source": [
    "if f > 0 or g > 0: \n",
    "    print(\"Either of the number is greater than 0\") \n",
    "else: \n",
    "    print(\"No number is greater than 0\") "
   ]
  },
  {
   "cell_type": "code",
   "execution_count": 28,
   "metadata": {},
   "outputs": [
    {
     "name": "stdout",
     "output_type": "stream",
     "text": [
      "[0, 1, 2, 3, 4, 5]\n"
     ]
    }
   ],
   "source": [
    "#Loops-Iterating through a sequence(The range function)\n",
    "#For Loops\n",
    "print(list(range(6)))"
   ]
  },
  {
   "cell_type": "code",
   "execution_count": 29,
   "metadata": {},
   "outputs": [
    {
     "data": {
      "text/plain": [
       "[2, 3, 4, 5, 6, 7]"
      ]
     },
     "execution_count": 29,
     "metadata": {},
     "output_type": "execute_result"
    }
   ],
   "source": [
    "list(range(2,8))"
   ]
  },
  {
   "cell_type": "code",
   "execution_count": 30,
   "metadata": {},
   "outputs": [
    {
     "data": {
      "text/plain": [
       "[0, 2, 4, 6, 8, 10, 12, 14, 16, 18]"
      ]
     },
     "execution_count": 30,
     "metadata": {},
     "output_type": "execute_result"
    }
   ],
   "source": [
    "list(range(0,20,2))"
   ]
  },
  {
   "cell_type": "code",
   "execution_count": 32,
   "metadata": {},
   "outputs": [
    {
     "name": "stdout",
     "output_type": "stream",
     "text": [
      "0\n",
      "1\n",
      "2\n",
      "3\n",
      "4\n"
     ]
    }
   ],
   "source": [
    "#Indentation-its used to group statements\n",
    "for x in range(5):\n",
    "    print (x)\n"
   ]
  },
  {
   "cell_type": "code",
   "execution_count": 33,
   "metadata": {},
   "outputs": [
    {
     "name": "stdout",
     "output_type": "stream",
     "text": [
      "5\n",
      "15\n",
      "25\n",
      "35\n",
      "45\n"
     ]
    }
   ],
   "source": [
    "for i in range(1,10,2):\n",
    "    product=5*i\n",
    "    print(product)"
   ]
  },
  {
   "cell_type": "code",
   "execution_count": 35,
   "metadata": {},
   "outputs": [
    {
     "name": "stdout",
     "output_type": "stream",
     "text": [
      "pop\n",
      "rock\n",
      "jazz\n",
      "highlife\n",
      "makossa\n"
     ]
    }
   ],
   "source": [
    "genre=['pop','rock','jazz','highlife','makossa']\n",
    "for music in genre:\n",
    "    print (music)\n",
    "    "
   ]
  },
  {
   "cell_type": "code",
   "execution_count": 36,
   "metadata": {},
   "outputs": [
    {
     "name": "stdout",
     "output_type": "stream",
     "text": [
      "0\n",
      "1\n",
      "2\n",
      "3\n",
      "4\n"
     ]
    }
   ],
   "source": [
    "for b in range(len(genre)):\n",
    "    print(b)"
   ]
  },
  {
   "cell_type": "code",
   "execution_count": 37,
   "metadata": {},
   "outputs": [
    {
     "name": "stdout",
     "output_type": "stream",
     "text": [
      "I love pop\n",
      "I love rock\n",
      "I love jazz\n",
      "I love highlife\n",
      "I love makossa\n"
     ]
    }
   ],
   "source": [
    "for a in range(len(genre)):\n",
    "    print('I love', genre[a])"
   ]
  },
  {
   "cell_type": "code",
   "execution_count": 40,
   "metadata": {},
   "outputs": [
    {
     "name": "stdout",
     "output_type": "stream",
     "text": [
      "[0, 8, 64, 216, 512]\n"
     ]
    }
   ],
   "source": [
    "cubes=[]\n",
    "for c in range(0,10,2):\n",
    "    cubes.append(c**3)\n",
    "print(cubes)"
   ]
  },
  {
   "cell_type": "code",
   "execution_count": 44,
   "metadata": {},
   "outputs": [
    {
     "name": "stdout",
     "output_type": "stream",
     "text": [
      "1\n",
      "2\n",
      "3\n",
      "4\n",
      "5\n",
      "No Digit Left\n"
     ]
    }
   ],
   "source": [
    "digits=[1,2,3,4,5]\n",
    "for i in digits:\n",
    "    print (i)\n",
    "else:\n",
    "    print('No Digit Left')"
   ]
  },
  {
   "cell_type": "code",
   "execution_count": 3,
   "metadata": {},
   "outputs": [
    {
     "name": "stdout",
     "output_type": "stream",
     "text": [
      "0\n",
      "1\n",
      "2\n",
      "3\n",
      "4\n",
      "Thank You\n"
     ]
    }
   ],
   "source": [
    "#While Loop-This continually execute program as long as the condition remain true.\n",
    "count=0\n",
    "while (count < 5):\n",
    "    print(count)\n",
    "    count=count+1\n",
    "print('Thank You')"
   ]
  },
  {
   "cell_type": "code",
   "execution_count": 4,
   "metadata": {},
   "outputs": [
    {
     "name": "stdout",
     "output_type": "stream",
     "text": [
      "The count is: 0\n",
      "The count is: 1\n",
      "The count is: 2\n",
      "The count is: 3\n",
      "The count is: 4\n",
      "The count is: 5\n",
      "The count is: 6\n",
      "The count is: 7\n",
      "The count is: 8\n",
      "Good bye!\n"
     ]
    }
   ],
   "source": [
    "count = 0\n",
    "while (count < 9):\n",
    "   print('The count is:', count)\n",
    "   count = (count + 1)\n",
    "\n",
    "print (\"Good bye!\")"
   ]
  },
  {
   "cell_type": "code",
   "execution_count": 12,
   "metadata": {},
   "outputs": [
    {
     "name": "stdout",
     "output_type": "stream",
     "text": [
      "10\n",
      "20\n",
      "30\n",
      "40\n",
      "The End\n"
     ]
    }
   ],
   "source": [
    "#Break & Continue Statements are used to terminate expressions without checking test expression\n",
    "number1=[10,20,30,40,50,60]\n",
    "for x in number1:\n",
    "    if x==50:\n",
    "        break\n",
    "    print(x)\n",
    "print('The End')\n",
    "    \n",
    "    \n"
   ]
  },
  {
   "cell_type": "code",
   "execution_count": 14,
   "metadata": {},
   "outputs": [
    {
     "name": "stdout",
     "output_type": "stream",
     "text": [
      "This is Letter p\n",
      "This is Letter y\n",
      "This is Letter t\n"
     ]
    }
   ],
   "source": [
    "for letter in 'python':\n",
    "    if letter=='h':\n",
    "        break\n",
    "    print('This is Letter', letter)"
   ]
  },
  {
   "cell_type": "code",
   "execution_count": 16,
   "metadata": {},
   "outputs": [
    {
     "name": "stdout",
     "output_type": "stream",
     "text": [
      "The Number is 1\n",
      "The Number is 2\n",
      "The Number is 3\n",
      "The Number is 4\n"
     ]
    }
   ],
   "source": [
    "varchar=[1,2,3,4,5,6,7,8,9]\n",
    "for num in varchar:\n",
    "    if num==5:\n",
    "        break\n",
    "    print('The Number is', num)"
   ]
  },
  {
   "cell_type": "code",
   "execution_count": 17,
   "metadata": {},
   "outputs": [
    {
     "name": "stdout",
     "output_type": "stream",
     "text": [
      "This is Letter p\n",
      "This is Letter y\n",
      "This is Letter t\n",
      "This is Letter o\n",
      "This is Letter n\n"
     ]
    }
   ],
   "source": [
    "#Continue statement is used to skip the condition and continues with the other iteration\n",
    "for letter in 'python':\n",
    "    if letter=='h':\n",
    "        continue\n",
    "    print('This is Letter', letter)"
   ]
  },
  {
   "cell_type": "code",
   "execution_count": 18,
   "metadata": {},
   "outputs": [
    {
     "name": "stdout",
     "output_type": "stream",
     "text": [
      "10\n",
      "20\n",
      "30\n",
      "40\n",
      "60\n",
      "The End\n"
     ]
    }
   ],
   "source": [
    "number1=[10,20,30,40,50,60]\n",
    "for x in number1:\n",
    "    if x==50:\n",
    "        continue\n",
    "    print(x)\n",
    "print('The End')"
   ]
  },
  {
   "cell_type": "code",
   "execution_count": 21,
   "metadata": {},
   "outputs": [
    {
     "name": "stdout",
     "output_type": "stream",
     "text": [
      "p\n",
      "r\n",
      "o\n",
      "This is a Block\n",
      "g\n",
      "r\n",
      "a\n",
      "m\n",
      "Thank You Sir\n"
     ]
    }
   ],
   "source": [
    "#Pass statement is used as a placeholder\n",
    "for l in 'program':\n",
    "    if l=='g':\n",
    "        pass\n",
    "        print('This is a Block')\n",
    "    print(l)\n",
    "print(\"Thank You Sir\")\n",
    "        \n",
    "    "
   ]
  },
  {
   "cell_type": "code",
   "execution_count": 24,
   "metadata": {},
   "outputs": [
    {
     "name": "stdout",
     "output_type": "stream",
     "text": [
      "Hello Paul. Good Morning\n"
     ]
    }
   ],
   "source": [
    "#Functions\n",
    "def greet(name):\n",
    "    \"\"\"This function greets the person passed as parameter\"\"\"\n",
    "    print('Hello '+name+'. Good Morning')\n",
    "    \n",
    "greet('Paul')"
   ]
  },
  {
   "cell_type": "code",
   "execution_count": 25,
   "metadata": {},
   "outputs": [
    {
     "name": "stdout",
     "output_type": "stream",
     "text": [
      "Hello Lizzy. Good Morning\n",
      "None\n"
     ]
    }
   ],
   "source": [
    "print(greet('Lizzy'))"
   ]
  },
  {
   "cell_type": "code",
   "execution_count": 28,
   "metadata": {},
   "outputs": [
    {
     "name": "stdout",
     "output_type": "stream",
     "text": [
      "This is the 5th Number\n"
     ]
    }
   ],
   "source": [
    "def change(number):\n",
    "    print('This is the '+number+ 'th'+' Number')\n",
    "change('5')"
   ]
  },
  {
   "cell_type": "code",
   "execution_count": 29,
   "metadata": {},
   "outputs": [
    {
     "data": {
      "text/plain": [
       "30"
      ]
     },
     "execution_count": 29,
     "metadata": {},
     "output_type": "execute_result"
    }
   ],
   "source": [
    "#Using the return statement-It ends the execution of the function and return the result\n",
    "def add(x,y):\n",
    "    \"\"\"This returns x+y\"\"\"\n",
    "    return(x+y)\n",
    "add(10,20)"
   ]
  },
  {
   "cell_type": "code",
   "execution_count": 31,
   "metadata": {},
   "outputs": [
    {
     "data": {
      "text/plain": [
       "6500"
      ]
     },
     "execution_count": 31,
     "metadata": {},
     "output_type": "execute_result"
    }
   ],
   "source": [
    "add(2000,4500)"
   ]
  },
  {
   "cell_type": "code",
   "execution_count": 37,
   "metadata": {},
   "outputs": [
    {
     "name": "stdout",
     "output_type": "stream",
     "text": [
      "even\n",
      "odd\n"
     ]
    }
   ],
   "source": [
    "def num(x):\n",
    "    if (x%2==0):\n",
    "        return 'even'\n",
    "    else:\n",
    "        return 'odd'\n",
    "    \n",
    "print(num(4))\n",
    "print(num(5))"
   ]
  },
  {
   "cell_type": "code",
   "execution_count": 36,
   "metadata": {},
   "outputs": [
    {
     "name": "stdout",
     "output_type": "stream",
     "text": [
      "even\n",
      "odd\n"
     ]
    }
   ],
   "source": [
    "def num(x):\n",
    "    if (x%2==0):\n",
    "        print ('even')\n",
    "    else:\n",
    "        print ('odd')\n",
    "num(2)\n",
    "num(3)"
   ]
  },
  {
   "cell_type": "code",
   "execution_count": 38,
   "metadata": {},
   "outputs": [
    {
     "name": "stdout",
     "output_type": "stream",
     "text": [
      "5\n",
      "3\n"
     ]
    }
   ],
   "source": [
    "def abs_val(num):\n",
    "    \"\"\"This fuction returns the absolute of the entered number\"\"\"\n",
    "    if num>=0:\n",
    "        return num\n",
    "    else:\n",
    "        return -num\n",
    "    \n",
    "print(abs_val(-5))\n",
    "print(abs_val(3))"
   ]
  },
  {
   "cell_type": "code",
   "execution_count": 4,
   "metadata": {},
   "outputs": [
    {
     "name": "stdout",
     "output_type": "stream",
     "text": [
      "12\n"
     ]
    }
   ],
   "source": [
    "#Lambda Functions\n",
    "product=lambda x,y:x*y\n",
    "print(product(3,4))"
   ]
  },
  {
   "cell_type": "code",
   "execution_count": 6,
   "metadata": {},
   "outputs": [
    {
     "data": {
      "text/plain": [
       "30"
      ]
     },
     "execution_count": 6,
     "metadata": {},
     "output_type": "execute_result"
    }
   ],
   "source": [
    "add=lambda a,b:a+b\n",
    "total=add(10,20)\n",
    "total"
   ]
  },
  {
   "cell_type": "code",
   "execution_count": 1,
   "metadata": {},
   "outputs": [
    {
     "name": "stdout",
     "output_type": "stream",
     "text": [
      "1\n"
     ]
    }
   ],
   "source": [
    "rem=lambda num:num%2\n",
    "print(rem(5))"
   ]
  },
  {
   "cell_type": "code",
   "execution_count": 5,
   "metadata": {},
   "outputs": [
    {
     "name": "stdout",
     "output_type": "stream",
     "text": [
      "1\n"
     ]
    }
   ],
   "source": [
    "#The above lambda function can be written in normal function as \n",
    "def rem(num):\n",
    "    return num%2\n",
    "print(rem(5))"
   ]
  },
  {
   "cell_type": "code",
   "execution_count": 8,
   "metadata": {},
   "outputs": [
    {
     "data": {
      "text/plain": [
       "[('at', 23), ('from', 3), ('should', 5), ('the', 34)]"
      ]
     },
     "execution_count": 8,
     "metadata": {},
     "output_type": "execute_result"
    }
   ],
   "source": [
    "#Sorting a list of tuples using Lambda functions\n",
    "exp=[('the',34),('at',23),('should',5),('from',3)]\n",
    "\n",
    "exp.sort() #This Sorts the list based on the first parameter of the tuple\n",
    "exp"
   ]
  },
  {
   "cell_type": "code",
   "execution_count": 9,
   "metadata": {},
   "outputs": [
    {
     "data": {
      "text/plain": [
       "[('from', 3), ('should', 5), ('at', 23), ('the', 34)]"
      ]
     },
     "execution_count": 9,
     "metadata": {},
     "output_type": "execute_result"
    }
   ],
   "source": [
    "#Sort based on the second parameter using lambda\n",
    "exp.sort(key=lambda x:x[1])\n",
    "exp"
   ]
  },
  {
   "cell_type": "code",
   "execution_count": 12,
   "metadata": {},
   "outputs": [
    {
     "data": {
      "text/plain": [
       "['hi', 'is', 'program', 'sample', 'string', 'this']"
      ]
     },
     "execution_count": 12,
     "metadata": {},
     "output_type": "execute_result"
    }
   ],
   "source": [
    "#Sorting a list of strings using Lambda functions\n",
    "list_str=['hi','this','is','sample','string','program']\n",
    "list_str.sort() #This sorts it alphabetically\n",
    "list_str"
   ]
  },
  {
   "cell_type": "code",
   "execution_count": 13,
   "metadata": {},
   "outputs": [
    {
     "data": {
      "text/plain": [
       "['hi', 'is', 'this', 'sample', 'string', 'program']"
      ]
     },
     "execution_count": 13,
     "metadata": {},
     "output_type": "execute_result"
    }
   ],
   "source": [
    "#Sorting based on lenght of string\n",
    "list_str.sort(key=lambda x:len(x))\n",
    "list_str"
   ]
  },
  {
   "cell_type": "code",
   "execution_count": null,
   "metadata": {},
   "outputs": [],
   "source": []
  }
 ],
 "metadata": {
  "kernelspec": {
   "display_name": "Python 3",
   "language": "python",
   "name": "python3"
  },
  "language_info": {
   "codemirror_mode": {
    "name": "ipython",
    "version": 3
   },
   "file_extension": ".py",
   "mimetype": "text/x-python",
   "name": "python",
   "nbconvert_exporter": "python",
   "pygments_lexer": "ipython3",
   "version": "3.7.6"
  }
 },
 "nbformat": 4,
 "nbformat_minor": 4
}
